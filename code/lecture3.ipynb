{
 "cells": [
  {
   "cell_type": "markdown",
   "metadata": {},
   "source": [
    "# HSYLC 2020 Day 3: Introduction to Sorting and Recursions."
   ]
  },
  {
   "cell_type": "markdown",
   "metadata": {},
   "source": [
    "## Review: Binary Search"
   ]
  },
  {
   "cell_type": "code",
   "execution_count": 11,
   "metadata": {},
   "outputs": [
    {
     "name": "stdout",
     "output_type": "stream",
     "text": [
      "L's first True appears at 50\n"
     ]
    }
   ],
   "source": [
    "L = [False]*50 + [True]*20 # First True should be at L[50]\n",
    "\n",
    "left = 0\n",
    "right = len(L)\n",
    "while(left < right):\n",
    "    mid = (left+right)//2\n",
    "    if L[mid]:\n",
    "        right = mid\n",
    "    else:\n",
    "        left = mid+1\n",
    "if left == len(L):\n",
    "    print(\"L has all False's\")\n",
    "else:\n",
    "    print(f\"L's first True appears at {left}\")"
   ]
  },
  {
   "cell_type": "markdown",
   "metadata": {},
   "source": [
    "## Sorting"
   ]
  },
  {
   "cell_type": "markdown",
   "metadata": {},
   "source": [
    "### Insertion Sort"
   ]
  },
  {
   "cell_type": "code",
   "execution_count": 17,
   "metadata": {},
   "outputs": [
    {
     "name": "stdout",
     "output_type": "stream",
     "text": [
      "[5, 1, 6, 4, 3]\n",
      "\n",
      "[1, 5, 6, 4, 3]\n",
      "\n",
      "[1, 5, 6, 4, 3]\n",
      "\n",
      "[1, 4, 5, 6, 3]\n",
      "\n",
      "[1, 3, 4, 5, 6]\n",
      "\n",
      "Final sorted list: [1, 3, 4, 5, 6]\n"
     ]
    }
   ],
   "source": [
    "L = [5, 1, 6, 4, 3]\n",
    "\n",
    "for i in range(len(L)):\n",
    "    curr = i\n",
    "    while curr>0 and L[curr]<L[curr-1]:\n",
    "        L[curr], L[curr-1] = L[curr-1], L[curr]\n",
    "        curr -= 1\n",
    "    print(L, end='\\n\\n')\n",
    "    \n",
    "print(f\"Final sorted list: {L}\")"
   ]
  },
  {
   "cell_type": "markdown",
   "metadata": {},
   "source": [
    "### Merge Sort"
   ]
  },
  {
   "cell_type": "code",
   "execution_count": 18,
   "metadata": {},
   "outputs": [],
   "source": [
    "def mergeSort(arr): \n",
    "    if len(arr) >1: \n",
    "        mid = len(arr)//2 # Finding the mid of the array \n",
    "        L = arr[:mid] # Dividing the array elements  \n",
    "        R = arr[mid:] # into 2 halves \n",
    "  \n",
    "        mergeSort(L) # Sorting the first half \n",
    "        mergeSort(R) # Sorting the second half \n",
    "  \n",
    "        i = j = k = 0\n",
    "          \n",
    "        # Copy data to temp arrays L[] and R[] \n",
    "        while i < len(L) and j < len(R): \n",
    "            if L[i] < R[j]: \n",
    "                arr[k] = L[i] \n",
    "                i+= 1\n",
    "            else: \n",
    "                arr[k] = R[j] \n",
    "                j+= 1\n",
    "            k+= 1\n",
    "          \n",
    "        # Checking if any element was left \n",
    "        while i < len(L): \n",
    "            arr[k] = L[i] \n",
    "            i+= 1\n",
    "            k+= 1\n",
    "          \n",
    "        while j < len(R): \n",
    "            arr[k] = R[j] \n",
    "            j+= 1\n",
    "            k+= 1"
   ]
  },
  {
   "cell_type": "code",
   "execution_count": 20,
   "metadata": {},
   "outputs": [
    {
     "name": "stdout",
     "output_type": "stream",
     "text": [
      "Original List: [1, 4, 2, 7, 6, 3, 5, 8]\n",
      "\n",
      "Sorted List: [1, 2, 3, 4, 5, 6, 7, 8]\n"
     ]
    }
   ],
   "source": [
    "L = [1, 4, 2, 7, 6, 3, 5, 8]\n",
    "print(f\"Original List: {L}\", end='\\n\\n')\n",
    "mergeSort(L)\n",
    "print(f\"Sorted List: {L}\")"
   ]
  },
  {
   "cell_type": "code",
   "execution_count": null,
   "metadata": {},
   "outputs": [],
   "source": []
  }
 ],
 "metadata": {
  "kernelspec": {
   "display_name": "Python 3",
   "language": "python",
   "name": "python3"
  },
  "language_info": {
   "codemirror_mode": {
    "name": "ipython",
    "version": 3
   },
   "file_extension": ".py",
   "mimetype": "text/x-python",
   "name": "python",
   "nbconvert_exporter": "python",
   "pygments_lexer": "ipython3",
   "version": "3.7.3"
  }
 },
 "nbformat": 4,
 "nbformat_minor": 4
}
