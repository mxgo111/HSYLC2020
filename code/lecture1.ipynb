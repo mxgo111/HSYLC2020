{
 "cells": [
  {
   "cell_type": "markdown",
   "metadata": {},
   "source": [
    "# HSYLC 2020 Day 1: Overview, Math Review, Terminology, O notation."
   ]
  },
  {
   "cell_type": "markdown",
   "metadata": {},
   "source": [
    "## Growth of Functions"
   ]
  },
  {
   "cell_type": "code",
   "execution_count": null,
   "metadata": {},
   "outputs": [],
   "source": [
    "import numpy as np\n",
    "import matplotlib.pyplot as plt\n",
    "\n",
    "x = np.arange(1, 10)\n",
    "\n",
    "# f(n) = log n\n",
    "o_logn = np.log(x)\n",
    "\n",
    "# f(n) = n\n",
    "o_n = x\n",
    "\n",
    "# f(n) = n log n\n",
    "o_nlogn = np.multiply(np.log(x), x)\n",
    "\n",
    "# f(n) = n^2\n",
    "o_nsquared = np.square(x)\n",
    "\n",
    "plt.plot(x, o_logn, label=\"O(logn)\")\n",
    "plt.plot(x, o_n, label=\"O(n)\")\n",
    "plt.plot(x, o_nlogn, label='O(nlogn)')\n",
    "plt.plot(x, o_nsquared, label='O(n^2)')\n",
    "plt.legend()\n",
    "plt.show()"
   ]
  }
 ],
 "metadata": {
  "kernelspec": {
   "display_name": "Python 3",
   "language": "python",
   "name": "python3"
  },
  "language_info": {
   "codemirror_mode": {
    "name": "ipython",
    "version": 3
   },
   "file_extension": ".py",
   "mimetype": "text/x-python",
   "name": "python",
   "nbconvert_exporter": "python",
   "pygments_lexer": "ipython3",
   "version": "3.7.3"
  }
 },
 "nbformat": 4,
 "nbformat_minor": 2
}
