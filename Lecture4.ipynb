{
 "cells": [
  {
   "cell_type": "markdown",
   "metadata": {},
   "source": [
    "# HSYLC 2020 Day 4: Graphs and Graph Searching (I)"
   ]
  },
  {
   "cell_type": "markdown",
   "metadata": {},
   "source": [
    "## Depth First Search (DFS)"
   ]
  },
  {
   "cell_type": "code",
   "execution_count": 2,
   "metadata": {},
   "outputs": [
    {
     "name": "stdout",
     "output_type": "stream",
     "text": [
      "1 has been visited.\n",
      "\n",
      "2 has been visited.\n",
      "\n",
      "4 has been visited.\n",
      "\n",
      "3 has been visited.\n",
      "\n",
      "5 has been visited.\n",
      "\n",
      "DFS complete.\n"
     ]
    }
   ],
   "source": [
    "adj = [\n",
    "    [],\n",
    "    [2, 3, 5],\n",
    "    [4],\n",
    "    [2],\n",
    "    [3],\n",
    "    []\n",
    "]\n",
    "\n",
    "visited = [False]*6\n",
    "\n",
    "def dfs(node):\n",
    "    visited[node] = True\n",
    "    print(f\"{node} has been visited.\\n\")\n",
    "    for neighbor in adj[node]:\n",
    "        if not visited[neighbor]:\n",
    "            dfs(neighbor)\n",
    "    return\n",
    "\n",
    "for node in range(1, len(adj)):\n",
    "    if not visited[node]:\n",
    "        dfs(node)\n",
    "\n",
    "print(\"DFS complete.\")"
   ]
  },
  {
   "cell_type": "markdown",
   "metadata": {},
   "source": [
    "## Topological Sorting"
   ]
  },
  {
   "cell_type": "code",
   "execution_count": 11,
   "metadata": {},
   "outputs": [
    {
     "name": "stdout",
     "output_type": "stream",
     "text": [
      "Starting to visit node 0\n",
      "\n",
      "Starting to visit node 1\n",
      "\n",
      "Starting to visit node 2\n",
      "\n",
      "Finished visiting node 2\n",
      "\n",
      "Finished visiting node 1\n",
      "\n",
      "Finished visiting node 0\n",
      "\n",
      "Topologically sorted graph: [0, 1, 2]\n"
     ]
    }
   ],
   "source": [
    "# Assuming we have a DAG\n",
    "\n",
    "adj = [\n",
    "    [1, 2],\n",
    "    [2, 5],\n",
    "    [3],\n",
    "    [],\n",
    "    [],\n",
    "    [3, 4],\n",
    "    [1, 5]\n",
    "]\n",
    "\n",
    "marked = [False]*len(adj)\n",
    "\n",
    "sorted_graph = []\n",
    "\n",
    "def dfs(node):\n",
    "    marked[node] = True\n",
    "    print(f\"Starting to visit node {node}\\n\")\n",
    "    for neighbor in adj[node]:\n",
    "        if not marked[neighbor]:\n",
    "            dfs(neighbor)\n",
    "            \n",
    "    print(f\"Finished visiting node {node}\\n\")\n",
    "    sorted_graph.append(node)\n",
    "    return\n",
    "\n",
    "for node in range(len(adj)):\n",
    "    if not marked[node]:\n",
    "        dfs(node)\n",
    "        \n",
    "sorted_graph = sorted_graph[::-1]\n",
    "\n",
    "print(f\"Topologically sorted graph: {sorted_graph}\")"
   ]
  },
  {
   "cell_type": "code",
   "execution_count": null,
   "metadata": {},
   "outputs": [],
   "source": []
  }
 ],
 "metadata": {
  "kernelspec": {
   "display_name": "Python 3",
   "language": "python",
   "name": "python3"
  },
  "language_info": {
   "codemirror_mode": {
    "name": "ipython",
    "version": 3
   },
   "file_extension": ".py",
   "mimetype": "text/x-python",
   "name": "python",
   "nbconvert_exporter": "python",
   "pygments_lexer": "ipython3",
   "version": "3.7.3"
  }
 },
 "nbformat": 4,
 "nbformat_minor": 4
}
