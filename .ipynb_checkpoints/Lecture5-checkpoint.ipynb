{
 "cells": [
  {
   "cell_type": "markdown",
   "metadata": {},
   "source": [
    "# HSYLC 2020 Day 4: Graphs and Graph Searching"
   ]
  },
  {
   "cell_type": "markdown",
   "metadata": {},
   "source": [
    "## Depth First Search (DFS)"
   ]
  },
  {
   "cell_type": "code",
   "execution_count": 1,
   "metadata": {},
   "outputs": [
    {
     "name": "stdout",
     "output_type": "stream",
     "text": [
      "0 has been visited.\n",
      "\n",
      "1 has been visited.\n",
      "\n",
      "3 has been visited.\n",
      "\n",
      "2 has been visited.\n",
      "\n",
      "4 has been visited.\n",
      "\n",
      "DFS complete.\n"
     ]
    }
   ],
   "source": [
    "adj = [\n",
    "    [1, 2, 4],\n",
    "    [3],\n",
    "    [1],\n",
    "    [2],\n",
    "    []\n",
    "]\n",
    "\n",
    "visited = [False]*5\n",
    "\n",
    "def dfs(node):\n",
    "    visited[node] = True\n",
    "    print(f\"{node} has been visited.\\n\")\n",
    "    for neighbor in adj[node]:\n",
    "        if not visited[neighbor]:\n",
    "            dfs(neighbor)\n",
    "    return\n",
    "\n",
    "for node in range(len(adj)):\n",
    "    if not visited[node]:\n",
    "        dfs(node)\n",
    "\n",
    "print(\"DFS complete.\")"
   ]
  }
 ],
 "metadata": {
  "kernelspec": {
   "display_name": "Python 3",
   "language": "python",
   "name": "python3"
  },
  "language_info": {
   "codemirror_mode": {
    "name": "ipython",
    "version": 3
   },
   "file_extension": ".py",
   "mimetype": "text/x-python",
   "name": "python",
   "nbconvert_exporter": "python",
   "pygments_lexer": "ipython3",
   "version": "3.7.3"
  }
 },
 "nbformat": 4,
 "nbformat_minor": 4
}
