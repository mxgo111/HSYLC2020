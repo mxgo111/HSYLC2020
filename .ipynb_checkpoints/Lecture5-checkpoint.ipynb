{
 "cells": [
  {
   "cell_type": "markdown",
   "metadata": {},
   "source": [
    "# HSYLC 2020 Day 5: Graphs and Graph Searching (II)"
   ]
  },
  {
   "cell_type": "markdown",
   "metadata": {},
   "source": [
    "## Detecting Cycles"
   ]
  },
  {
   "cell_type": "code",
   "execution_count": 7,
   "metadata": {},
   "outputs": [
    {
     "name": "stdout",
     "output_type": "stream",
     "text": [
      "Starting to visit node 0\n",
      "\n",
      "Starting to visit node 1\n",
      "\n",
      "Starting to visit node 2\n",
      "\n",
      "Not a DAG! Cycle Exists!\n"
     ]
    }
   ],
   "source": [
    "adj = [\n",
    "    [1, 2],\n",
    "    [2, 5],\n",
    "    [3],\n",
    "    [],\n",
    "    [],\n",
    "    [3, 4],\n",
    "    [1, 5]\n",
    "]\n",
    "\n",
    "adj = [\n",
    "    [1],\n",
    "    [2],\n",
    "    [0],\n",
    "]\n",
    "\n",
    "marked = [0]*len(adj)\n",
    "\n",
    "sorted_graph = []\n",
    "\n",
    "def dfs(node):\n",
    "    marked[node] = 1\n",
    "    print(f\"Starting to visit node {node}\\n\")\n",
    "    for neighbor in adj[node]:\n",
    "        if marked[neighbor] == 1:\n",
    "            return True\n",
    "        elif (marked[neighbor] == 0):\n",
    "            if dfs(neighbor):\n",
    "                return True\n",
    "    marked[node] = 2\n",
    "    print(f\"Finished visiting node {node}\\n\")\n",
    "    sorted_graph.append(node)\n",
    "    return False\n",
    "\n",
    "exists_cycle = False\n",
    "for node in range(len(adj)):\n",
    "    if not marked[node]:\n",
    "        if dfs(node):\n",
    "            print(\"Not a DAG! Cycle Exists!\")\n",
    "            exists_cycle = True\n",
    "\n",
    "if not exists_cycle:\n",
    "    sorted_graph = sorted_graph[::-1]\n",
    "    print(f\"Topologically sorted graph: {sorted_graph}\")"
   ]
  },
  {
   "cell_type": "markdown",
   "metadata": {},
   "source": [
    "## Annotated Depth First Search (DFS)"
   ]
  },
  {
   "cell_type": "code",
   "execution_count": 7,
   "metadata": {},
   "outputs": [
    {
     "name": "stdout",
     "output_type": "stream",
     "text": [
      "1 has been visited.\n",
      "\n",
      "2 has been visited.\n",
      "\n",
      "4 has been visited.\n",
      "\n",
      "3 has been visited.\n",
      "\n",
      "5 has been visited.\n",
      "\n",
      "DFS complete.\n",
      "\n",
      "  Node    Start Time    End Time\n",
      "------  ------------  ----------\n",
      "     1             0           9\n",
      "     2             1           6\n",
      "     3             3           4\n",
      "     4             2           5\n",
      "     5             7           8\n"
     ]
    }
   ],
   "source": [
    "from tabulate import tabulate\n",
    "\n",
    "adj = [\n",
    "    [],\n",
    "    [2, 3, 5],\n",
    "    [4],\n",
    "    [2],\n",
    "    [3],\n",
    "    []\n",
    "]\n",
    "\n",
    "visited = [False]*6\n",
    "start_times = [0]*6\n",
    "end_times = [0]*6\n",
    "time = 0\n",
    "\n",
    "def dfs(node):\n",
    "    global time\n",
    "    visited[node] = True\n",
    "    start_times[node] = time\n",
    "    time += 1\n",
    "    print(f\"{node} has been visited.\\n\")\n",
    "    for neighbor in adj[node]:\n",
    "        if not visited[neighbor]:\n",
    "            dfs(neighbor)\n",
    "    end_times[node] = time\n",
    "    time += 1\n",
    "    return\n",
    "\n",
    "for node in range(1,len(adj)):\n",
    "    if not visited[node]:\n",
    "        dfs(node)\n",
    "\n",
    "print(\"DFS complete.\\n\")\n",
    "\n",
    "table = {}\n",
    "table[\"Node\"] = list(range(1,6))\n",
    "table[\"Start Time\"] = start_times[1:]\n",
    "table[\"End Time\"] = end_times[1:]\n",
    "\n",
    "print(tabulate(table, headers=table.keys()))"
   ]
  },
  {
   "cell_type": "markdown",
   "metadata": {},
   "source": [
    "## Breadth-First Search"
   ]
  },
  {
   "cell_type": "code",
   "execution_count": 14,
   "metadata": {},
   "outputs": [
    {
     "name": "stdout",
     "output_type": "stream",
     "text": [
      "1 has been visited.\n",
      "\n",
      "2 has been visited.\n",
      "\n",
      "3 has been visited.\n",
      "\n",
      "5 has been visited.\n",
      "\n",
      "4 has been visited.\n",
      "\n",
      "BFS complete.\n",
      "\n"
     ]
    }
   ],
   "source": [
    "from queue import Queue\n",
    "\n",
    "adj = [\n",
    "    [],\n",
    "    [2, 3, 5],\n",
    "    [4],\n",
    "    [2],\n",
    "    [3],\n",
    "    []\n",
    "]\n",
    "\n",
    "q = Queue()\n",
    "visited = [False]*6\n",
    "\n",
    "source = 1 # Choose a source node\n",
    "\n",
    "q.put(source) \n",
    "while not q.empty():\n",
    "    node = q.get()\n",
    "    visited[node] = True\n",
    "    print(f\"{node} has been visited.\\n\")\n",
    "    for neighbor in adj[node]:\n",
    "        if not visited[neighbor]:\n",
    "            q.put(neighbor)\n",
    "            visited[neighbor] = True\n",
    "\n",
    "print(\"BFS complete.\\n\")"
   ]
  },
  {
   "cell_type": "markdown",
   "metadata": {},
   "source": [
    "## Breadth-First Search Application: Shortest Paths"
   ]
  },
  {
   "cell_type": "code",
   "execution_count": 22,
   "metadata": {},
   "outputs": [
    {
     "name": "stdout",
     "output_type": "stream",
     "text": [
      "2 has been visited.\n",
      "\n",
      "4 has been visited.\n",
      "\n",
      "3 has been visited.\n",
      "\n",
      "BFS complete.\n",
      "\n",
      "  Node    Distance From Source\n",
      "------  ----------------------\n",
      "     1                     inf\n",
      "     2                       0\n",
      "     3                       2\n",
      "     4                       1\n",
      "     5                     inf\n"
     ]
    }
   ],
   "source": [
    "from queue import Queue\n",
    "\n",
    "adj = [\n",
    "    [],\n",
    "    [2, 3, 5],\n",
    "    [4],\n",
    "    [2],\n",
    "    [3],\n",
    "    []\n",
    "]\n",
    "\n",
    "q = Queue()\n",
    "visited = [False]*6\n",
    "levels = [float('inf')] * 6\n",
    "\n",
    "source = 1 # Choose a source node\n",
    "\n",
    "q.put(source)\n",
    "levels[source] = 0\n",
    "while not q.empty():\n",
    "    node = q.get()\n",
    "    visited[node] = True\n",
    "    print(f\"{node} has been visited.\\n\")\n",
    "    for neighbor in adj[node]:\n",
    "        if not visited[neighbor]:\n",
    "            q.put(neighbor)\n",
    "            levels[neighbor] = levels[node] + 1\n",
    "            visited[neighbor] = True\n",
    "\n",
    "print(\"BFS complete.\\n\")\n",
    "\n",
    "table = {}\n",
    "table[\"Node\"] = list(range(1,6))\n",
    "table[\"Distance From Source\"] = levels[1:]\n",
    "\n",
    "print(tabulate(table, headers=table.keys()))"
   ]
  },
  {
   "cell_type": "code",
   "execution_count": null,
   "metadata": {},
   "outputs": [],
   "source": []
  }
 ],
 "metadata": {
  "kernelspec": {
   "display_name": "Python 3",
   "language": "python",
   "name": "python3"
  },
  "language_info": {
   "codemirror_mode": {
    "name": "ipython",
    "version": 3
   },
   "file_extension": ".py",
   "mimetype": "text/x-python",
   "name": "python",
   "nbconvert_exporter": "python",
   "pygments_lexer": "ipython3",
   "version": "3.7.3"
  }
 },
 "nbformat": 4,
 "nbformat_minor": 4
}
